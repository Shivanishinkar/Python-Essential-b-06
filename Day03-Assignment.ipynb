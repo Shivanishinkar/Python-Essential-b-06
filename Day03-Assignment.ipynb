{
 "cells": [
  {
   "cell_type": "code",
   "execution_count": 3,
   "metadata": {},
   "outputs": [
    {
     "name": "stdout",
     "output_type": "stream",
     "text": [
      "Enter the number:5\n",
      "4 --> 5\n",
      "3 --> 9\n",
      "2 --> 12\n",
      "1 --> 14\n",
      "0 --> 15\n",
      "-1 --> 15\n",
      "Sum of number is  15\n"
     ]
    }
   ],
   "source": [
    "#Sum of n numbers with the help of while loop\n",
    "num = int (input(\"Enter the number:\"))\n",
    "sum1 =0\n",
    "while (num >= 0):\n",
    "    sum1 = sum1 + num\n",
    "    num = num-1\n",
    "    print (num, \"-->\", sum1)\n",
    "print(\"Sum of number is \", sum1) "
   ]
  },
  {
   "cell_type": "code",
   "execution_count": 4,
   "metadata": {},
   "outputs": [
    {
     "name": "stdout",
     "output_type": "stream",
     "text": [
      "Enter the Number:45\n",
      "45 is not prime number\n"
     ]
    }
   ],
   "source": [
    "#checked a Number Prime or not Prime number\n",
    "num = int(input(\"Enter the Number:\")) \n",
    "if num > 1 :\n",
    "    for i in range (2,num):\n",
    "        if (num % i)==0:\n",
    "            print(num,\"is not prime number\")\n",
    "            break\n",
    "    else:\n",
    "        print(num,\"is a prime number\")\n",
    "else :\n",
    "    print(num,\"Wrong input\")\n",
    "        "
   ]
  },
  {
   "cell_type": "code",
   "execution_count": null,
   "metadata": {},
   "outputs": [],
   "source": []
  },
  {
   "cell_type": "code",
   "execution_count": null,
   "metadata": {},
   "outputs": [],
   "source": []
  }
 ],
 "metadata": {
  "kernelspec": {
   "display_name": "Python 3",
   "language": "python",
   "name": "python3"
  },
  "language_info": {
   "codemirror_mode": {
    "name": "ipython",
    "version": 3
   },
   "file_extension": ".py",
   "mimetype": "text/x-python",
   "name": "python",
   "nbconvert_exporter": "python",
   "pygments_lexer": "ipython3",
   "version": "3.7.6"
  }
 },
 "nbformat": 4,
 "nbformat_minor": 4
}
