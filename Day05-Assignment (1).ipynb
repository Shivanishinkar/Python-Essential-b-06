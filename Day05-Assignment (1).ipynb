{
 "cells": [
  {
   "cell_type": "markdown",
   "metadata": {},
   "source": [
    "# Question 1\n"
   ]
  },
  {
   "cell_type": "markdown",
   "metadata": {},
   "source": [
    "## list1=[0,1,2,10,4,1,0,56,2,0,1,3,0,56,0,4].Sort increasing order but all zeros should be at right hand side.¶"
   ]
  },
  {
   "cell_type": "code",
   "execution_count": 1,
   "metadata": {},
   "outputs": [
    {
     "name": "stdout",
     "output_type": "stream",
     "text": [
      "[1, 2, 10, 4, 1, 56, 2, 1, 3, 56, 4, 0, 0, 0, 0, 0]\n"
     ]
    }
   ],
   "source": [
    "def move_zero(num_list):\n",
    "    a=[0 for i in range (num_list.count(0))]\n",
    "    x=[i for i in num_list if i !=0]\n",
    "    x.extend(a)\n",
    "    return(x)\n",
    "print(move_zero([0,1,2,10,4,1,0,56,2,0,1,3,0,56,0,4]))\n"
   ]
  },
  {
   "cell_type": "markdown",
   "metadata": {},
   "source": [
    "# Question 2\n"
   ]
  },
  {
   "cell_type": "markdown",
   "metadata": {},
   "source": [
    "## list 1=[10,20,40,60,70,80],list 2=[5,15,25,35,45,60].Merge these two sorted list produce one sorted list.But use only one loop while or for only one time;Don't use sort method"
   ]
  },
  {
   "cell_type": "code",
   "execution_count": 4,
   "metadata": {},
   "outputs": [
    {
     "name": "stdout",
     "output_type": "stream",
     "text": [
      "Print the values of list1 [10, 20, 40, 60, 70, 80]\n",
      "Print the values of list2 [5, 15, 25, 35, 45, 60]\n",
      "after merging those lists : [5, 10, 15, 20, 25, 35, 40, 45, 60, 60, 70, 80]\n"
     ]
    }
   ],
   "source": [
    "list1 = [10,20,40,60,70,80]\n",
    "list2 = [5,15,25,35,45,60]\n",
    "\n",
    "#printing original lists\n",
    "print(\"Print the values of list1\",list1)\n",
    "print(\"Print the values of list2\",list2)\n",
    "\n",
    "#using navie method\n",
    "#to combine two sorted lists\n",
    "s1=len(list1)\n",
    "s2=len(list2)\n",
    "\n",
    "res=[]\n",
    "i,j=0,0\n",
    "\n",
    "while i < s1 and j < s2:\n",
    "    if list1[i] < list2[j]:\n",
    "        res.append(list1[i])\n",
    "        i+=1\n",
    "        \n",
    "    else:\n",
    "        res.append(list2[j])\n",
    "        j += 1\n",
    "res= res + list1[i:] + list2[j:]\n",
    "#printing result\n",
    "print(\"after merging those lists :\",res)\n"
   ]
  },
  {
   "cell_type": "code",
   "execution_count": null,
   "metadata": {},
   "outputs": [],
   "source": []
  }
 ],
 "metadata": {
  "kernelspec": {
   "display_name": "Python 3",
   "language": "python",
   "name": "python3"
  },
  "language_info": {
   "codemirror_mode": {
    "name": "ipython",
    "version": 3
   },
   "file_extension": ".py",
   "mimetype": "text/x-python",
   "name": "python",
   "nbconvert_exporter": "python",
   "pygments_lexer": "ipython3",
   "version": "3.7.6"
  }
 },
 "nbformat": 4,
 "nbformat_minor": 4
}
